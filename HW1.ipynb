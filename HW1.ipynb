{
 "cells": [
  {
   "cell_type": "markdown",
   "metadata": {},
   "source": [
    "# Imports"
   ]
  },
  {
   "cell_type": "code",
   "execution_count": 59,
   "metadata": {},
   "outputs": [],
   "source": [
    "import re\n",
    "import os\n",
    "from openai import AzureOpenAI\n",
    "from openai.types.chat import ChatCompletion\n",
    "import importlib.util\n",
    "from pathlib import Path"
   ]
  },
  {
   "cell_type": "markdown",
   "metadata": {},
   "source": [
    "# Parse Input"
   ]
  },
  {
   "cell_type": "code",
   "execution_count": 65,
   "metadata": {},
   "outputs": [],
   "source": [
    "class InputData:\n",
    "    def __init__(self, input_text: Path):\n",
    "        self.parse(input_text)\n",
    "        self.full_description = f\"{self.signature}\\n{self.description}\"\n",
    "    \n",
    "    def __repr__(self) -> str:\n",
    "        return f\"function_name: {self.function_name}\\nsignature: {self.signature}\\ndescription: {self.description}\\nexamples: {self.examples}\\ntemperatures: {self.temperatures}\\nnum: {self.num}\\nunit_tests: {self.unit_tests}\"\n",
    "    \n",
    "    def parse(self, input_text: Path):\n",
    "        with open(input_text, 'r') as f:\n",
    "            self.text = f.readlines()\n",
    "        self.text = [line.strip().removesuffix(\";\") for line in self.text if line.strip() != '']\n",
    "        self.function_name = self.text[0]\n",
    "        self.description = \"\"\n",
    "        for i, line in enumerate(self.text[2:]):\n",
    "            if '\"\"\"' in line:\n",
    "                break\n",
    "            if 'signature' in line:\n",
    "                self.signature = line\n",
    "            else:\n",
    "                self.description += f\"{line} \"\n",
    "        \n",
    "        next_part = self.text[i + 1:]\n",
    "        self.examples = []\n",
    "        for i, line in enumerate(next_part):\n",
    "            if \"example:\" in line:\n",
    "                self.examples.append(line)\n",
    "            if \"temperatures:\" in line:\n",
    "                self.temperatures = line.split(\":\")[1].split(\",\")\n",
    "                self.temperatures = [float(temp) for temp in self.temperatures]\n",
    "            if \"num\" in line:\n",
    "                self.num = int(line.split('=')[1])\n",
    "            if \"unit_tests\" in line:\n",
    "                self.unit_tests = next_part[i + 1:]\n",
    "                break\n",
    "            \n",
    "            \n"
   ]
  },
  {
   "cell_type": "code",
   "execution_count": 66,
   "metadata": {},
   "outputs": [
    {
     "data": {
      "text/plain": [
       "function_name: sqrt_list\n",
       "signature: signature: sqrt_list(l:list) -> float\n",
       "description: A function named sqrt_list that takes a list of integer and returns the square root of the sum of that list, to two decimal places. \n",
       "examples: ['example: sqrt_list([1,7,8]) -> 4.0']\n",
       "temperatures: [0.0, 0.8]\n",
       "num: 3\n",
       "unit_tests: ['sqrt_list([6,18,7,5]) -> 6.0', 'sqrt_list([50,2,33,8,4,3,10]) -> 10.48']"
      ]
     },
     "execution_count": 66,
     "metadata": {},
     "output_type": "execute_result"
    }
   ],
   "source": [
    "input_text = Path('input.txt')\n",
    "input_data = InputData(input_text)\n",
    "input_data"
   ]
  },
  {
   "cell_type": "markdown",
   "metadata": {},
   "source": [
    "# Intigrate model"
   ]
  },
  {
   "cell_type": "code",
   "execution_count": 62,
   "metadata": {},
   "outputs": [],
   "source": [
    "AZURE_OPENAI_API_KEY=\"e865ffe4387f416ea57d7394ee09fb2e\"\n",
    "AZURE_OPENAI_ENDPOINT=\"https://openaifor3267.openai.azure.com/\"\n",
    "AZURE_OPENAI_API_VERSION = \"2023-12-01-preview\"\n",
    "model = \"gpt-35-16k\""
   ]
  },
  {
   "cell_type": "code",
   "execution_count": 63,
   "metadata": {},
   "outputs": [],
   "source": [
    "client = AzureOpenAI(\n",
    "    api_key=AZURE_OPENAI_API_KEY,  \n",
    "    api_version=AZURE_OPENAI_API_VERSION,\n",
    "    azure_endpoint = AZURE_OPENAI_ENDPOINT\n",
    ")"
   ]
  },
  {
   "cell_type": "code",
   "execution_count": 64,
   "metadata": {},
   "outputs": [],
   "source": [
    "def sent_prompt(prompt: str, temp: float, num_of_samples: int) -> ChatCompletion:\n",
    "    response = client.chat.completions.create(\n",
    "        model=model,\n",
    "        temperature=temp,\n",
    "        n=num_of_samples,\n",
    "        max_tokens=100,\n",
    "        messages=[\n",
    "            {\"role\": \"system\", \"content\": \"\"\"Act as experienced python developer,\n",
    "            and provide the implementation for the following functions, make sure to only provide the implementation for the function and not\n",
    "            put any redundant text as comment, the function should compile without any interventions.\"\"\"},\n",
    "            {\"role\": \"user\", \"content\": prompt}\n",
    "        ]\n",
    "    )\n",
    "    return response"
   ]
  },
  {
   "cell_type": "code",
   "execution_count": 67,
   "metadata": {},
   "outputs": [],
   "source": [
    "responses = []\n",
    "for temp in input_data.temperatures:\n",
    "    response_without_ex = {}\n",
    "    response = sent_prompt(input_data.full_description, temp, input_data.num)\n",
    "    response_without_ex[\"temp\"] = temp\n",
    "    response_without_ex[\"isExample\"] = False\n",
    "    response_without_ex[\"response\"] = response\n",
    "    responses.append(response_without_ex)\n",
    "\n",
    "    response_with_ex = {}\n",
    "    prompt = input_data.full_description + \"\\n\" + \"\\n\".join(input_data.examples)\n",
    "    response = sent_prompt(prompt, temp, input_data.num)\n",
    "    response_with_ex[\"temp\"] = temp\n",
    "    response_with_ex[\"isExample\"] = True\n",
    "    response_with_ex[\"response\"] = response\n",
    "    responses.append(response_with_ex)"
   ]
  },
  {
   "cell_type": "code",
   "execution_count": 76,
   "metadata": {},
   "outputs": [
    {
     "data": {
      "text/plain": [
       "[{'temp': 0.0,\n",
       "  'isExample': False,\n",
       "  'response': ChatCompletion(id='chatcmpl-9FipqKYlSk2vrpjenZyOQ8VzQGBhy', choices=[Choice(finish_reason='stop', index=0, logprobs=None, message=ChatCompletionMessage(content='import math\\n\\ndef sqrt_list(l):\\n    return round(math.sqrt(sum(l)), 2)', role='assistant', function_call=None, tool_calls=None), content_filter_results={'hate': {'filtered': False, 'severity': 'safe'}, 'self_harm': {'filtered': False, 'severity': 'safe'}, 'sexual': {'filtered': False, 'severity': 'safe'}, 'violence': {'filtered': False, 'severity': 'safe'}}), Choice(finish_reason='stop', index=1, logprobs=None, message=ChatCompletionMessage(content='import math\\n\\ndef sqrt_list(l):\\n    return round(math.sqrt(sum(l)), 2)', role='assistant', function_call=None, tool_calls=None), content_filter_results={'hate': {'filtered': False, 'severity': 'safe'}, 'self_harm': {'filtered': False, 'severity': 'safe'}, 'sexual': {'filtered': False, 'severity': 'safe'}, 'violence': {'filtered': False, 'severity': 'safe'}}), Choice(finish_reason='stop', index=2, logprobs=None, message=ChatCompletionMessage(content='import math\\n\\ndef sqrt_list(l):\\n    return round(math.sqrt(sum(l)), 2)', role='assistant', function_call=None, tool_calls=None), content_filter_results={'hate': {'filtered': False, 'severity': 'safe'}, 'self_harm': {'filtered': False, 'severity': 'safe'}, 'sexual': {'filtered': False, 'severity': 'safe'}, 'violence': {'filtered': False, 'severity': 'safe'}})], created=1713534294, model='gpt-35-turbo-16k', object='chat.completion', system_fingerprint=None, usage=CompletionUsage(completion_tokens=57, prompt_tokens=95, total_tokens=152), prompt_filter_results=[{'prompt_index': 0, 'content_filter_results': {'hate': {'filtered': False, 'severity': 'safe'}, 'self_harm': {'filtered': False, 'severity': 'safe'}, 'sexual': {'filtered': False, 'severity': 'safe'}, 'violence': {'filtered': False, 'severity': 'safe'}}}])},\n",
       " {'temp': 0.0,\n",
       "  'isExample': True,\n",
       "  'response': ChatCompletion(id='chatcmpl-9Fipr0bLgYsPF1g04YzaNbYGer5kk', choices=[Choice(finish_reason='stop', index=0, logprobs=None, message=ChatCompletionMessage(content='import math\\n\\ndef sqrt_list(l):\\n    return round(math.sqrt(sum(l)), 2)', role='assistant', function_call=None, tool_calls=None), content_filter_results={'hate': {'filtered': False, 'severity': 'safe'}, 'self_harm': {'filtered': False, 'severity': 'safe'}, 'sexual': {'filtered': False, 'severity': 'safe'}, 'violence': {'filtered': False, 'severity': 'safe'}}), Choice(finish_reason='stop', index=1, logprobs=None, message=ChatCompletionMessage(content='import math\\n\\ndef sqrt_list(l):\\n    return round(math.sqrt(sum(l)), 2)', role='assistant', function_call=None, tool_calls=None), content_filter_results={'hate': {'filtered': False, 'severity': 'safe'}, 'self_harm': {'filtered': False, 'severity': 'safe'}, 'sexual': {'filtered': False, 'severity': 'safe'}, 'violence': {'filtered': False, 'severity': 'safe'}}), Choice(finish_reason='stop', index=2, logprobs=None, message=ChatCompletionMessage(content='import math\\n\\ndef sqrt_list(l):\\n    return round(math.sqrt(sum(l)), 2)', role='assistant', function_call=None, tool_calls=None), content_filter_results={'hate': {'filtered': False, 'severity': 'safe'}, 'self_harm': {'filtered': False, 'severity': 'safe'}, 'sexual': {'filtered': False, 'severity': 'safe'}, 'violence': {'filtered': False, 'severity': 'safe'}})], created=1713534295, model='gpt-35-turbo-16k', object='chat.completion', system_fingerprint=None, usage=CompletionUsage(completion_tokens=57, prompt_tokens=111, total_tokens=168), prompt_filter_results=[{'prompt_index': 0, 'content_filter_results': {'hate': {'filtered': False, 'severity': 'safe'}, 'self_harm': {'filtered': False, 'severity': 'safe'}, 'sexual': {'filtered': False, 'severity': 'safe'}, 'violence': {'filtered': False, 'severity': 'safe'}}}])},\n",
       " {'temp': 0.8,\n",
       "  'isExample': False,\n",
       "  'response': ChatCompletion(id='chatcmpl-9FiprD3JkcHcY5yDIlWdcSXSXzFYM', choices=[Choice(finish_reason='stop', index=0, logprobs=None, message=ChatCompletionMessage(content='import math\\n\\ndef sqrt_list(l: list) -> float:\\n    sum_of_list = sum(l)\\n    square_root = math.sqrt(sum_of_list)\\n    return round(square_root, 2)', role='assistant', function_call=None, tool_calls=None), content_filter_results={'hate': {'filtered': False, 'severity': 'safe'}, 'self_harm': {'filtered': False, 'severity': 'safe'}, 'sexual': {'filtered': False, 'severity': 'safe'}, 'violence': {'filtered': False, 'severity': 'safe'}}), Choice(finish_reason='stop', index=1, logprobs=None, message=ChatCompletionMessage(content='import math\\n\\ndef sqrt_list(l):\\n    return round(math.sqrt(sum(l)), 2)', role='assistant', function_call=None, tool_calls=None), content_filter_results={'hate': {'filtered': False, 'severity': 'safe'}, 'self_harm': {'filtered': False, 'severity': 'safe'}, 'sexual': {'filtered': False, 'severity': 'safe'}, 'violence': {'filtered': False, 'severity': 'safe'}}), Choice(finish_reason='stop', index=2, logprobs=None, message=ChatCompletionMessage(content='import math\\n\\ndef sqrt_list(l):\\n    return round(math.sqrt(sum(l)), 2)', role='assistant', function_call=None, tool_calls=None), content_filter_results={'hate': {'filtered': False, 'severity': 'safe'}, 'self_harm': {'filtered': False, 'severity': 'safe'}, 'sexual': {'filtered': False, 'severity': 'safe'}, 'violence': {'filtered': False, 'severity': 'safe'}})], created=1713534295, model='gpt-35-turbo-16k', object='chat.completion', system_fingerprint=None, usage=CompletionUsage(completion_tokens=78, prompt_tokens=95, total_tokens=173), prompt_filter_results=[{'prompt_index': 0, 'content_filter_results': {'hate': {'filtered': False, 'severity': 'safe'}, 'self_harm': {'filtered': False, 'severity': 'safe'}, 'sexual': {'filtered': False, 'severity': 'safe'}, 'violence': {'filtered': False, 'severity': 'safe'}}}])},\n",
       " {'temp': 0.8,\n",
       "  'isExample': True,\n",
       "  'response': ChatCompletion(id='chatcmpl-9Fips8M4jzIGKSOkotopR3OjhDeLs', choices=[Choice(finish_reason='stop', index=0, logprobs=None, message=ChatCompletionMessage(content='import math\\n\\ndef sqrt_list(l):\\n    return round(math.sqrt(sum(l)), 2)', role='assistant', function_call=None, tool_calls=None), content_filter_results={'hate': {'filtered': False, 'severity': 'safe'}, 'self_harm': {'filtered': False, 'severity': 'safe'}, 'sexual': {'filtered': False, 'severity': 'safe'}, 'violence': {'filtered': False, 'severity': 'safe'}}), Choice(finish_reason='stop', index=1, logprobs=None, message=ChatCompletionMessage(content='import math\\n\\ndef sqrt_list(l):\\n    total = sum(l)\\n    sqrt = math.sqrt(total)\\n    return round(sqrt, 2)', role='assistant', function_call=None, tool_calls=None), content_filter_results={'hate': {'filtered': False, 'severity': 'safe'}, 'self_harm': {'filtered': False, 'severity': 'safe'}, 'sexual': {'filtered': False, 'severity': 'safe'}, 'violence': {'filtered': False, 'severity': 'safe'}}), Choice(finish_reason='stop', index=2, logprobs=None, message=ChatCompletionMessage(content='import math\\n\\ndef sqrt_list(l):\\n    total = sum(l)\\n    square_root = math.sqrt(total)\\n    return round(square_root, 2)', role='assistant', function_call=None, tool_calls=None), content_filter_results={'hate': {'filtered': False, 'severity': 'safe'}, 'self_harm': {'filtered': False, 'severity': 'safe'}, 'sexual': {'filtered': False, 'severity': 'safe'}, 'violence': {'filtered': False, 'severity': 'safe'}})], created=1713534296, model='gpt-35-turbo-16k', object='chat.completion', system_fingerprint=None, usage=CompletionUsage(completion_tokens=79, prompt_tokens=111, total_tokens=190), prompt_filter_results=[{'prompt_index': 0, 'content_filter_results': {'hate': {'filtered': False, 'severity': 'safe'}, 'self_harm': {'filtered': False, 'severity': 'safe'}, 'sexual': {'filtered': False, 'severity': 'safe'}, 'violence': {'filtered': False, 'severity': 'safe'}}}])}]"
      ]
     },
     "execution_count": 76,
     "metadata": {},
     "output_type": "execute_result"
    }
   ],
   "source": [
    "responses"
   ]
  },
  {
   "cell_type": "markdown",
   "metadata": {},
   "source": [
    "# Generate Files"
   ]
  },
  {
   "cell_type": "code",
   "execution_count": 80,
   "metadata": {},
   "outputs": [
    {
     "name": "stdout",
     "output_type": "stream",
     "text": [
      "File sqrt_list-s1-t0.py created\n",
      "File sqrt_list-s2-t0.py created\n",
      "File sqrt_list-s3-t0.py created\n",
      "File sqrt_list-ex-s1-t0.py created\n",
      "File sqrt_list-ex-s2-t0.py created\n",
      "File sqrt_list-ex-s3-t0.py created\n",
      "File sqrt_list-s1-t8.py created\n",
      "File sqrt_list-s2-t8.py created\n",
      "File sqrt_list-s3-t8.py created\n",
      "File sqrt_list-ex-s1-t8.py created\n",
      "File sqrt_list-ex-s2-t8.py created\n",
      "File sqrt_list-ex-s3-t8.py created\n"
     ]
    }
   ],
   "source": [
    "file_names = []\n",
    "for result in responses:\n",
    "    for i, choice in enumerate(result['response'].choices):\n",
    "        file_name = f\"{input_data.function_name}-{'ex-' if result['isExample'] else ''}s{i + 1}-t{int(result['temp'] * 10)}.py\"\n",
    "        with open(file_name, 'w') as f:\n",
    "            f.write(choice.message.content)\n",
    "        print(f\"File {file_name} created\")\n",
    "        file_names.append(file_name)"
   ]
  },
  {
   "cell_type": "markdown",
   "metadata": {},
   "source": [
    "# Add Tests and gather results"
   ]
  },
  {
   "cell_type": "code",
   "execution_count": null,
   "metadata": {},
   "outputs": [],
   "source": []
  }
 ],
 "metadata": {
  "kernelspec": {
   "display_name": "Python 3",
   "language": "python",
   "name": "python3"
  },
  "language_info": {
   "codemirror_mode": {
    "name": "ipython",
    "version": 3
   },
   "file_extension": ".py",
   "mimetype": "text/x-python",
   "name": "python",
   "nbconvert_exporter": "python",
   "pygments_lexer": "ipython3",
   "version": "3.11.1"
  },
  "orig_nbformat": 4
 },
 "nbformat": 4,
 "nbformat_minor": 2
}
