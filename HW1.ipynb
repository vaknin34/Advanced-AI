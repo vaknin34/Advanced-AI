{
 "cells": [
  {
   "cell_type": "markdown",
   "metadata": {},
   "source": [
    "# Imports"
   ]
  },
  {
   "cell_type": "code",
   "execution_count": 59,
   "metadata": {},
   "outputs": [],
   "source": [
    "import re\n",
    "import os\n",
    "from openai import AzureOpenAI\n",
    "from openai.types.chat import ChatCompletion\n",
    "import importlib.util\n",
    "from pathlib import Path"
   ]
  },
  {
   "cell_type": "markdown",
   "metadata": {},
   "source": [
    "# Parse Input"
   ]
  },
  {
   "cell_type": "code",
   "execution_count": 60,
   "metadata": {},
   "outputs": [],
   "source": [
    "class InputData:\n",
    "    def __init__(self, input_text: Path):\n",
    "        self.parse(input_text)\n",
    "    \n",
    "    def __repr__(self) -> str:\n",
    "        return f\"function_name: {self.function_name}\\nsignature: {self.signature}\\ndescription: {self.description}\\nexamples: {self.examples}\\ntemperatures: {self.temperatures}\\nnum: {self.num}\\nunit_tests: {self.unit_tests}\"\n",
    "    \n",
    "    def parse(self, input_text: Path):\n",
    "        with open(input_text, 'r') as f:\n",
    "            self.text = f.readlines()\n",
    "        self.text = [line.strip().removesuffix(\";\") for line in self.text if line.strip() != '']\n",
    "        self.function_name = self.text[0]\n",
    "        self.description = \"\"\n",
    "        for i, line in enumerate(self.text[2:]):\n",
    "            if '\"\"\"' in line:\n",
    "                break\n",
    "            if 'signature' in line:\n",
    "                self.signature = line\n",
    "            else:\n",
    "                self.description += f\"{line} \"\n",
    "        \n",
    "        next_part = self.text[i + 1:]\n",
    "        self.examples = []\n",
    "        for i, line in enumerate(next_part):\n",
    "            if \"example:\" in line:\n",
    "                self.examples.append(line)\n",
    "            if \"temperatures:\" in line:\n",
    "                self.temperatures = line.split(\":\")[1].split(\",\")\n",
    "                self.temperatures = [float(temp) for temp in self.temperatures]\n",
    "            if \"num\" in line:\n",
    "                self.num = int(line.split('=')[1])\n",
    "            if \"unit_tests\" in line:\n",
    "                self.unit_tests = next_part[i + 1:]\n",
    "                break\n",
    "            \n",
    "            \n"
   ]
  },
  {
   "cell_type": "code",
   "execution_count": 61,
   "metadata": {},
   "outputs": [
    {
     "data": {
      "text/plain": [
       "function_name: sqrt_list\n",
       "signature: signature: sqrt_list(l:list) -> float\n",
       "description: A function named sqrt_list that takes a list of integer and returns the square root of the sum of that list, to two decimal places. \n",
       "examples: ['example: sqrt_list([1,7,8]) -> 4.0']\n",
       "temperatures: [0.0, 0.8]\n",
       "num: 3\n",
       "unit_tests: ['sqrt_list([6,18,7,5]) -> 6.0', 'sqrt_list([50,2,33,8,4,3,10]) -> 10.48']"
      ]
     },
     "execution_count": 61,
     "metadata": {},
     "output_type": "execute_result"
    }
   ],
   "source": [
    "input_text = Path('input.txt')\n",
    "input_data = InputData(input_text)\n",
    "input_data"
   ]
  },
  {
   "cell_type": "markdown",
   "metadata": {},
   "source": [
    "# Intigrate model"
   ]
  },
  {
   "cell_type": "code",
   "execution_count": 3,
   "metadata": {},
   "outputs": [],
   "source": [
    "AZURE_OPENAI_API_KEY=\"e865ffe4387f416ea57d7394ee09fb2e\"\n",
    "AZURE_OPENAI_ENDPOINT=\"https://openaifor3267.openai.azure.com/\"\n",
    "AZURE_OPENAI_API_VERSION = \"2023-12-01-preview\"\n",
    "model = \"gpt-35-16k\""
   ]
  },
  {
   "cell_type": "code",
   "execution_count": null,
   "metadata": {},
   "outputs": [],
   "source": [
    "client = AzureOpenAI(\n",
    "    api_key=AZURE_OPENAI_API_KEY,  \n",
    "    api_version=AZURE_OPENAI_API_VERSION,\n",
    "    azure_endpoint = AZURE_OPENAI_ENDPOINT\n",
    ")"
   ]
  },
  {
   "cell_type": "code",
   "execution_count": 4,
   "metadata": {},
   "outputs": [],
   "source": [
    "prompt = \"Once upon a time\""
   ]
  },
  {
   "cell_type": "code",
   "execution_count": null,
   "metadata": {},
   "outputs": [],
   "source": [
    "def sent_prompt(prompt: str, temp: float, num_of_samples: int) -> ChatCompletion:\n",
    "    response = client.chat.completions.create(\n",
    "        model=model,\n",
    "        temperature=temp,\n",
    "        n=num_of_samples,\n",
    "        max_tokens=100,\n",
    "        messages=[\n",
    "            {\"role\": \"system\", \"content\": \"Act as experienced python developer\"},\n",
    "            {\"role\": \"user\", \"content\": prompt}\n",
    "        ]\n",
    "    )\n",
    "    return response"
   ]
  },
  {
   "cell_type": "code",
   "execution_count": null,
   "metadata": {},
   "outputs": [],
   "source": [
    "response = sent_prompt(prompt, 0.5, 1)"
   ]
  },
  {
   "cell_type": "code",
   "execution_count": 5,
   "metadata": {},
   "outputs": [],
   "source": [
    "genreated_file = 'generated.py'\n",
    "function_name = \"sqrt_list\""
   ]
  },
  {
   "cell_type": "code",
   "execution_count": 7,
   "metadata": {},
   "outputs": [],
   "source": [
    "# Load the module from the file\n",
    "spec = importlib.util.spec_from_file_location(\"generated\", genreated_file)\n",
    "generated = importlib.util.module_from_spec(spec)\n",
    "spec.loader.exec_module(generated)\n",
    "\n",
    "# Access the function from the dynamically generated module\n",
    "dynamic_function = getattr(generated, function_name)\n",
    "\n",
    "# Now you can call the function\n",
    "#result = dynamic_function([6, 18, 7, 5])\n"
   ]
  },
  {
   "cell_type": "code",
   "execution_count": 13,
   "metadata": {},
   "outputs": [],
   "source": [
    "l = eval(\"6, 2\")"
   ]
  },
  {
   "cell_type": "code",
   "execution_count": 15,
   "metadata": {},
   "outputs": [
    {
     "data": {
      "text/plain": [
       "2"
      ]
     },
     "execution_count": 15,
     "metadata": {},
     "output_type": "execute_result"
    }
   ],
   "source": [
    "l[1]"
   ]
  },
  {
   "cell_type": "code",
   "execution_count": null,
   "metadata": {},
   "outputs": [],
   "source": [
    "result"
   ]
  },
  {
   "cell_type": "code",
   "execution_count": null,
   "metadata": {},
   "outputs": [],
   "source": [
    "with open(genreated_file, \"w\") as f:\n",
    "    s = \"\"\"\n",
    "    def sqrt_list(l):\n",
    "        return [x**0.5 for x in l]\n",
    "    \"\"\".strip()\n",
    "    f.write(s)"
   ]
  },
  {
   "cell_type": "code",
   "execution_count": null,
   "metadata": {},
   "outputs": [],
   "source": [
    "result"
   ]
  },
  {
   "cell_type": "code",
   "execution_count": null,
   "metadata": {},
   "outputs": [],
   "source": [
    "with open(genreated_file, \"w\") as f:\n",
    "    s = \"\"\"\n",
    "    def sqrt_list(l):\n",
    "        return [x**0.5 for x in l]\n",
    "    \"\"\".strip()\n",
    "    f.write(s)"
   ]
  },
  {
   "cell_type": "code",
   "execution_count": null,
   "metadata": {},
   "outputs": [],
   "source": [
    "from genreated_file import sqrt_list"
   ]
  },
  {
   "cell_type": "code",
   "execution_count": null,
   "metadata": {},
   "outputs": [],
   "source": [
    "eval(\"sqrt_list([6,18,7,5])\")"
   ]
  },
  {
   "cell_type": "code",
   "execution_count": null,
   "metadata": {},
   "outputs": [],
   "source": []
  }
 ],
 "metadata": {
  "kernelspec": {
   "display_name": "Python 3",
   "language": "python",
   "name": "python3"
  },
  "language_info": {
   "codemirror_mode": {
    "name": "ipython",
    "version": 3
   },
   "file_extension": ".py",
   "mimetype": "text/x-python",
   "name": "python",
   "nbconvert_exporter": "python",
   "pygments_lexer": "ipython3",
   "version": "3.11.1"
  },
  "orig_nbformat": 4
 },
 "nbformat": 4,
 "nbformat_minor": 2
}
