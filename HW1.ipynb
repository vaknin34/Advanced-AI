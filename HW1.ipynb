{
 "cells": [
  {
   "cell_type": "markdown",
   "metadata": {},
   "source": [
    "# Imports"
   ]
  },
  {
   "cell_type": "code",
   "execution_count": 1,
   "metadata": {},
   "outputs": [],
   "source": [
    "import re\n",
    "import os\n",
    "from openai import AzureOpenAI\n",
    "from openai.types.chat import ChatCompletion\n",
    "import importlib.util\n",
    "from pathlib import Path"
   ]
  },
  {
   "cell_type": "markdown",
   "metadata": {},
   "source": [
    "# Parse Input"
   ]
  },
  {
   "cell_type": "code",
   "execution_count": null,
   "metadata": {},
   "outputs": [],
   "source": [
    "class Input:\n",
    "    def __init__(self, input_text: Path):\n",
    "        self.parse(input_text)\n",
    "    \n",
    "    def parse(self, input_text: Path):\n",
    "        with open(input_text, 'r') as f:\n",
    "            self.text = f.readlines()\n",
    "        self.text = [line.strip() for line in self.text]\n",
    "        "
   ]
  },
  {
   "cell_type": "code",
   "execution_count": 2,
   "metadata": {},
   "outputs": [
    {
     "ename": "NameError",
     "evalue": "name 'parse_input_file' is not defined",
     "output_type": "error",
     "traceback": [
      "\u001b[0;31m---------------------------------------------------------------------------\u001b[0m",
      "\u001b[0;31mNameError\u001b[0m                                 Traceback (most recent call last)",
      "\u001b[1;32m/Users/nivvaknin/Desktop/Advanced-AI/HW1.ipynb Cell 5\u001b[0m line \u001b[0;36m3\n\u001b[1;32m      <a href='vscode-notebook-cell:/Users/nivvaknin/Desktop/Advanced-AI/HW1.ipynb#W5sZmlsZQ%3D%3D?line=0'>1</a>\u001b[0m \u001b[39m# Usage example\u001b[39;00m\n\u001b[1;32m      <a href='vscode-notebook-cell:/Users/nivvaknin/Desktop/Advanced-AI/HW1.ipynb#W5sZmlsZQ%3D%3D?line=1'>2</a>\u001b[0m input_file_path \u001b[39m=\u001b[39m \u001b[39m'\u001b[39m\u001b[39minput.txt\u001b[39m\u001b[39m'\u001b[39m\n\u001b[0;32m----> <a href='vscode-notebook-cell:/Users/nivvaknin/Desktop/Advanced-AI/HW1.ipynb#W5sZmlsZQ%3D%3D?line=2'>3</a>\u001b[0m parsed_obj \u001b[39m=\u001b[39m parse_input_file(input_file_path)\n\u001b[1;32m      <a href='vscode-notebook-cell:/Users/nivvaknin/Desktop/Advanced-AI/HW1.ipynb#W5sZmlsZQ%3D%3D?line=3'>4</a>\u001b[0m \u001b[39mprint\u001b[39m(parsed_obj)\n",
      "\u001b[0;31mNameError\u001b[0m: name 'parse_input_file' is not defined"
     ]
    }
   ],
   "source": [
    "# Usage example\n",
    "input_file_path = 'input.txt'\n",
    "parsed_obj = parse_input_file(input_file_path)\n",
    "print(parsed_obj)\n"
   ]
  },
  {
   "cell_type": "markdown",
   "metadata": {},
   "source": [
    "# Intigrate model"
   ]
  },
  {
   "cell_type": "code",
   "execution_count": 3,
   "metadata": {},
   "outputs": [],
   "source": [
    "AZURE_OPENAI_API_KEY=\"e865ffe4387f416ea57d7394ee09fb2e\"\n",
    "AZURE_OPENAI_ENDPOINT=\"https://openaifor3267.openai.azure.com/\"\n",
    "AZURE_OPENAI_API_VERSION = \"2023-12-01-preview\"\n",
    "model = \"gpt-35-16k\""
   ]
  },
  {
   "cell_type": "code",
   "execution_count": null,
   "metadata": {},
   "outputs": [],
   "source": [
    "client = AzureOpenAI(\n",
    "    api_key=AZURE_OPENAI_API_KEY,  \n",
    "    api_version=AZURE_OPENAI_API_VERSION,\n",
    "    azure_endpoint = AZURE_OPENAI_ENDPOINT\n",
    ")"
   ]
  },
  {
   "cell_type": "code",
   "execution_count": 4,
   "metadata": {},
   "outputs": [],
   "source": [
    "prompt = \"Once upon a time\""
   ]
  },
  {
   "cell_type": "code",
   "execution_count": null,
   "metadata": {},
   "outputs": [],
   "source": [
    "def sent_prompt(prompt: str, temp: float, num_of_samples: int) -> ChatCompletion:\n",
    "    response = client.chat.completions.create(\n",
    "        model=model,\n",
    "        temperature=temp,\n",
    "        n=num_of_samples,\n",
    "        max_tokens=100,\n",
    "        messages=[\n",
    "            {\"role\": \"system\", \"content\": \"Act as experienced python developer\"},\n",
    "            {\"role\": \"user\", \"content\": prompt}\n",
    "        ]\n",
    "    )\n",
    "    return response"
   ]
  },
  {
   "cell_type": "code",
   "execution_count": null,
   "metadata": {},
   "outputs": [],
   "source": [
    "response = sent_prompt(prompt, 0.5, 1)"
   ]
  },
  {
   "cell_type": "code",
   "execution_count": 5,
   "metadata": {},
   "outputs": [],
   "source": [
    "genreated_file = 'generated.py'\n",
    "function_name = \"sqrt_list\""
   ]
  },
  {
   "cell_type": "code",
   "execution_count": 7,
   "metadata": {},
   "outputs": [],
   "source": [
    "# Load the module from the file\n",
    "spec = importlib.util.spec_from_file_location(\"generated\", genreated_file)\n",
    "generated = importlib.util.module_from_spec(spec)\n",
    "spec.loader.exec_module(generated)\n",
    "\n",
    "# Access the function from the dynamically generated module\n",
    "dynamic_function = getattr(generated, function_name)\n",
    "\n",
    "# Now you can call the function\n",
    "#result = dynamic_function([6, 18, 7, 5])\n"
   ]
  },
  {
   "cell_type": "code",
   "execution_count": 13,
   "metadata": {},
   "outputs": [],
   "source": [
    "l = eval(\"6, 2\")"
   ]
  },
  {
   "cell_type": "code",
   "execution_count": 15,
   "metadata": {},
   "outputs": [
    {
     "data": {
      "text/plain": [
       "2"
      ]
     },
     "execution_count": 15,
     "metadata": {},
     "output_type": "execute_result"
    }
   ],
   "source": [
    "l[1]"
   ]
  },
  {
   "cell_type": "code",
   "execution_count": null,
   "metadata": {},
   "outputs": [],
   "source": [
    "result"
   ]
  },
  {
   "cell_type": "code",
   "execution_count": null,
   "metadata": {},
   "outputs": [],
   "source": [
    "with open(genreated_file, \"w\") as f:\n",
    "    s = \"\"\"\n",
    "    def sqrt_list(l):\n",
    "        return [x**0.5 for x in l]\n",
    "    \"\"\".strip()\n",
    "    f.write(s)"
   ]
  },
  {
   "cell_type": "code",
   "execution_count": null,
   "metadata": {},
   "outputs": [],
   "source": [
    "result"
   ]
  },
  {
   "cell_type": "code",
   "execution_count": null,
   "metadata": {},
   "outputs": [],
   "source": [
    "with open(genreated_file, \"w\") as f:\n",
    "    s = \"\"\"\n",
    "    def sqrt_list(l):\n",
    "        return [x**0.5 for x in l]\n",
    "    \"\"\".strip()\n",
    "    f.write(s)"
   ]
  },
  {
   "cell_type": "code",
   "execution_count": null,
   "metadata": {},
   "outputs": [],
   "source": [
    "from genreated_file import sqrt_list"
   ]
  },
  {
   "cell_type": "code",
   "execution_count": null,
   "metadata": {},
   "outputs": [],
   "source": [
    "eval(\"sqrt_list([6,18,7,5])\")"
   ]
  },
  {
   "cell_type": "code",
   "execution_count": null,
   "metadata": {},
   "outputs": [],
   "source": []
  }
 ],
 "metadata": {
  "kernelspec": {
   "display_name": "Python 3",
   "language": "python",
   "name": "python3"
  },
  "language_info": {
   "codemirror_mode": {
    "name": "ipython",
    "version": 3
   },
   "file_extension": ".py",
   "mimetype": "text/x-python",
   "name": "python",
   "nbconvert_exporter": "python",
   "pygments_lexer": "ipython3",
   "version": "3.11.1"
  },
  "orig_nbformat": 4
 },
 "nbformat": 4,
 "nbformat_minor": 2
}
