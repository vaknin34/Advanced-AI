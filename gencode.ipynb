{
 "cells": [
  {
   "cell_type": "markdown",
   "metadata": {},
   "source": [
    "# Imports"
   ]
  },
  {
   "cell_type": "code",
   "execution_count": 8,
   "metadata": {},
   "outputs": [],
   "source": [
    "from openai import AzureOpenAI\n",
    "from openai.types.chat import ChatCompletion\n",
    "from pathlib import Path\n",
    "import subprocess\n"
   ]
  },
  {
   "cell_type": "markdown",
   "metadata": {},
   "source": [
    "# Parse Input"
   ]
  },
  {
   "cell_type": "code",
   "execution_count": 9,
   "metadata": {},
   "outputs": [],
   "source": [
    "class InputData:\n",
    "    def __init__(self, input_text: Path):\n",
    "        self.parse(input_text)\n",
    "        self.full_description = f\"{self.signature}\\n{self.description}\"\n",
    "    \n",
    "    def __repr__(self) -> str:\n",
    "        return f\"function_name: {self.function_name}\\nsignature: {self.signature}\\ndescription: {self.description}\\nexamples: {self.examples}\\ntemperatures: {self.temperatures}\\nnum: {self.num}\\nunit_tests: {self.unit_tests}\"\n",
    "    \n",
    "    def parse(self, input_text: Path):\n",
    "        with open(input_text, 'r') as f:\n",
    "            self.text = f.readlines()\n",
    "        self.text = [line.strip().removesuffix(\";\") for line in self.text if line.strip() != '']\n",
    "        self.function_name = self.text[0]\n",
    "        self.description = \"\"\n",
    "        for i, line in enumerate(self.text[2:]):\n",
    "            if '\"\"\"' in line:\n",
    "                break\n",
    "            if 'signature' in line:\n",
    "                self.signature = line\n",
    "            else:\n",
    "                self.description += f\"{line} \"\n",
    "        \n",
    "        next_part = self.text[i + 1:]\n",
    "        self.examples = []\n",
    "        for i, line in enumerate(next_part):\n",
    "            if \"example:\" in line:\n",
    "                self.examples.append(line)\n",
    "            if \"temperatures:\" in line:\n",
    "                self.temperatures = line.split(\":\")[1].split(\",\")\n",
    "                self.temperatures = [float(temp) for temp in self.temperatures]\n",
    "            if \"num\" in line:\n",
    "                self.num = int(line.split('=')[1])\n",
    "            if \"unit_tests\" in line:\n",
    "                self.unit_tests = next_part[i + 1:]\n",
    "                break"
   ]
  },
  {
   "cell_type": "code",
   "execution_count": 10,
   "metadata": {},
   "outputs": [],
   "source": [
    "input_text = Path('input.txt')\n",
    "input_data = InputData(input_text)"
   ]
  },
  {
   "cell_type": "markdown",
   "metadata": {},
   "source": [
    "# Intigrate model"
   ]
  },
  {
   "cell_type": "code",
   "execution_count": 11,
   "metadata": {},
   "outputs": [],
   "source": [
    "AZURE_OPENAI_API_KEY=\"e865ffe4387f416ea57d7394ee09fb2e\"\n",
    "AZURE_OPENAI_ENDPOINT=\"https://openaifor3267.openai.azure.com/\"\n",
    "AZURE_OPENAI_API_VERSION = \"2023-12-01-preview\"\n",
    "model = \"gpt-35-16k\""
   ]
  },
  {
   "cell_type": "code",
   "execution_count": 13,
   "metadata": {},
   "outputs": [],
   "source": [
    "client = AzureOpenAI(\n",
    "    api_key=AZURE_OPENAI_API_KEY,  \n",
    "    api_version=AZURE_OPENAI_API_VERSION,\n",
    "    azure_endpoint = AZURE_OPENAI_ENDPOINT\n",
    ")"
   ]
  },
  {
   "cell_type": "code",
   "execution_count": 14,
   "metadata": {},
   "outputs": [],
   "source": [
    "def sent_prompt(prompt: str, temp: float, num_of_samples: int) -> ChatCompletion:\n",
    "    response = client.chat.completions.create(\n",
    "        model=model,\n",
    "        temperature=temp,\n",
    "        n=num_of_samples,\n",
    "        max_tokens=100,\n",
    "        messages=[\n",
    "            {\"role\": \"system\", \"content\": \"\"\"Act as experienced python developer,\n",
    "            and provide the implementation for the following functions, make sure to only provide the implementation for the function and not\n",
    "            put any redundant text as comment, the function should compile without any interventions.\"\"\"},\n",
    "            {\"role\": \"user\", \"content\": prompt}\n",
    "        ]\n",
    "    )\n",
    "    return response"
   ]
  },
  {
   "cell_type": "code",
   "execution_count": 15,
   "metadata": {},
   "outputs": [],
   "source": [
    "responses = []\n",
    "for temp in input_data.temperatures:\n",
    "    response_without_ex = {}\n",
    "    response = sent_prompt(input_data.full_description, temp, input_data.num)\n",
    "    response_without_ex[\"temp\"] = temp\n",
    "    response_without_ex[\"isExample\"] = False\n",
    "    response_without_ex[\"response\"] = response\n",
    "    responses.append(response_without_ex)\n",
    "\n",
    "    response_with_ex = {}\n",
    "    prompt = input_data.full_description + \"\\n\" + \"\\n\".join(input_data.examples)\n",
    "    response = sent_prompt(prompt, temp, input_data.num)\n",
    "    response_with_ex[\"temp\"] = temp\n",
    "    response_with_ex[\"isExample\"] = True\n",
    "    response_with_ex[\"response\"] = response\n",
    "    responses.append(response_with_ex)"
   ]
  },
  {
   "cell_type": "markdown",
   "metadata": {},
   "source": [
    "# Generate Files"
   ]
  },
  {
   "cell_type": "code",
   "execution_count": 31,
   "metadata": {},
   "outputs": [
    {
     "name": "stdout",
     "output_type": "stream",
     "text": [
      "File sqrt_list-s1-t0.py created\n",
      "File sqrt_list-s2-t0.py created\n",
      "File sqrt_list-s3-t0.py created\n",
      "File sqrt_list-ex-s1-t0.py created\n",
      "File sqrt_list-ex-s2-t0.py created\n",
      "File sqrt_list-ex-s3-t0.py created\n",
      "File sqrt_list-s1-t8.py created\n",
      "File sqrt_list-s2-t8.py created\n",
      "File sqrt_list-s3-t8.py created\n",
      "File sqrt_list-ex-s1-t8.py created\n",
      "File sqrt_list-ex-s2-t8.py created\n",
      "File sqrt_list-ex-s3-t8.py created\n"
     ]
    }
   ],
   "source": [
    "file_names = []\n",
    "for result in responses:\n",
    "    for i, choice in enumerate(result['response'].choices):\n",
    "        file_name = f\"{input_data.function_name}-{'ex-' if result['isExample'] else ''}s{i + 1}-t{int(result['temp'] * 10)}.py\"\n",
    "        unittest = [f\"print({test.replace('->', '==')})\" for test in input_data.unit_tests]\n",
    "        unittest_str = '\\n'.join(unittest)\n",
    "        file_content = f\"{choice.message.content}\\n\\n{unittest_str}\"\n",
    "\n",
    "        with open(file_name, 'w') as f:\n",
    "            f.write(file_content)\n",
    "        print(f\"File {file_name} created\")\n",
    "        file_names.append(file_name)"
   ]
  },
  {
   "cell_type": "markdown",
   "metadata": {},
   "source": [
    "# Run Tests and gather results"
   ]
  },
  {
   "cell_type": "code",
   "execution_count": 32,
   "metadata": {},
   "outputs": [
    {
     "name": "stdout",
     "output_type": "stream",
     "text": [
      "Running file: sqrt_list-s1-t0.py\n",
      "Running file: sqrt_list-s2-t0.py\n",
      "Running file: sqrt_list-s3-t0.py\n",
      "Running file: sqrt_list-ex-s1-t0.py\n",
      "Running file: sqrt_list-ex-s2-t0.py\n",
      "Running file: sqrt_list-ex-s3-t0.py\n",
      "Running file: sqrt_list-s1-t8.py\n",
      "Running file: sqrt_list-s2-t8.py\n",
      "Running file: sqrt_list-s3-t8.py\n",
      "Running file: sqrt_list-ex-s1-t8.py\n",
      "Running file: sqrt_list-ex-s2-t8.py\n",
      "Running file: sqrt_list-ex-s3-t8.py\n",
      "File sqrt_list-stats.txt created.\n"
     ]
    }
   ],
   "source": [
    "template_results = \"\"\"\n",
    "passed_without_examples={passed_without_examples}\n",
    "failed_without_examples={failed_without_examples}\n",
    "average_without_examples={average_without_examples}\n",
    "\n",
    "passed_with_examples={passed_with_examples}\n",
    "failed_with_examples={failed_with_examples}\n",
    "average_with_examples={average_with_examples}\n",
    "\"\"\"\n",
    "stat_file_name = f\"{input_data.function_name}-stats.txt\"\n",
    "t_to_stats = {}\n",
    "\n",
    "for t in input_data.temperatures:\n",
    "    t_to_stats[t] = {\n",
    "        \"passed_with_ex\": 0,\n",
    "        \"failed_with_ex\": 0,\n",
    "        \"passed_no_ex\": 0,\n",
    "        \"failed_no_ex\": 0,\n",
    "    }\n",
    "    for f_name in file_names:\n",
    "        if f\"t{int(t*10)}\" in f_name:\n",
    "            print(f\"Running file: {f_name}\")\n",
    "            result = subprocess.run(['python3', f_name], capture_output=True, text=True)\n",
    "            if result.returncode:\n",
    "                failed_tests = len(input_data.unit_tests)\n",
    "                pass_tests = 0\n",
    "            else:\n",
    "                pass_tests, failed_tests = result.stdout.count(\"True\"), result.stdout.count(\"False\")\n",
    "            if \"ex\" in f_name:\n",
    "                t_to_stats[t]['passed_with_ex'] += pass_tests\n",
    "                t_to_stats[t]['failed_with_ex'] += failed_tests\n",
    "            else:\n",
    "                t_to_stats[t]['passed_no_ex'] += pass_tests\n",
    "                t_to_stats[t]['failed_no_ex'] += failed_tests                 \n",
    "\n",
    "file_content = f\"LLM={model}\\n\"\n",
    "\n",
    "for t, stat in t_to_stats.items():\n",
    "    file_content += f\"temperature={t}\"\n",
    "    file_content += template_results.format(passed_without_examples=stat['passed_no_ex'],\n",
    "                            failed_without_examples=stat['failed_no_ex'],\n",
    "                            average_without_examples=stat['passed_no_ex']/(stat['passed_no_ex']+stat['failed_no_ex']),\n",
    "                            passed_with_examples=stat['passed_with_ex'],\n",
    "                            failed_with_examples=stat['failed_with_ex'],\n",
    "                            average_with_examples=stat['passed_with_ex']/(stat['passed_with_ex']+stat['failed_with_ex']),)\n",
    "    file_content += \"\\n\\n\"\n",
    "     \n",
    "\n",
    "with open(stat_file_name, 'w') as f:\n",
    "        f.write(file_content)\n",
    "\n",
    "print(f'File {stat_file_name} created.')"
   ]
  }
 ],
 "metadata": {
  "kernelspec": {
   "display_name": "Python 3",
   "language": "python",
   "name": "python3"
  },
  "language_info": {
   "codemirror_mode": {
    "name": "ipython",
    "version": 3
   },
   "file_extension": ".py",
   "mimetype": "text/x-python",
   "name": "python",
   "nbconvert_exporter": "python",
   "pygments_lexer": "ipython3",
   "version": "3.11.8"
  },
  "orig_nbformat": 4
 },
 "nbformat": 4,
 "nbformat_minor": 2
}
